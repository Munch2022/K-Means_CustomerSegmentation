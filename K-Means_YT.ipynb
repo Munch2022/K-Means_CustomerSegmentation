{
 "cells": [
  {
   "cell_type": "code",
   "execution_count": 2,
   "id": "ab39338c",
   "metadata": {},
   "outputs": [],
   "source": [
    "# THERE IS SOME ERROR, NEED TO FIX IT LATER\n",
    "\n",
    "# Basically this is not the right dataset to use for clustering coz no pair is scattered and clustered when plotted"
   ]
  },
  {
   "cell_type": "code",
   "execution_count": 3,
   "id": "e4b575b6",
   "metadata": {},
   "outputs": [],
   "source": [
    "# import libraries \n",
    "import pandas as pd\n",
    "import numpy as np\n",
    "import matplotlib.pyplot as plt\n"
   ]
  },
  {
   "cell_type": "code",
   "execution_count": 4,
   "id": "f5069227",
   "metadata": {},
   "outputs": [
    {
     "data": {
      "text/html": [
       "<div>\n",
       "<style scoped>\n",
       "    .dataframe tbody tr th:only-of-type {\n",
       "        vertical-align: middle;\n",
       "    }\n",
       "\n",
       "    .dataframe tbody tr th {\n",
       "        vertical-align: top;\n",
       "    }\n",
       "\n",
       "    .dataframe thead th {\n",
       "        text-align: right;\n",
       "    }\n",
       "</style>\n",
       "<table border=\"1\" class=\"dataframe\">\n",
       "  <thead>\n",
       "    <tr style=\"text-align: right;\">\n",
       "      <th></th>\n",
       "      <th>Customer Id</th>\n",
       "      <th>Age</th>\n",
       "      <th>Edu</th>\n",
       "      <th>Years Employed</th>\n",
       "      <th>Income</th>\n",
       "      <th>Card Debt</th>\n",
       "      <th>Other Debt</th>\n",
       "      <th>Defaulted</th>\n",
       "      <th>Address</th>\n",
       "      <th>DebtIncomeRatio</th>\n",
       "    </tr>\n",
       "  </thead>\n",
       "  <tbody>\n",
       "    <tr>\n",
       "      <th>0</th>\n",
       "      <td>1</td>\n",
       "      <td>41</td>\n",
       "      <td>2</td>\n",
       "      <td>6</td>\n",
       "      <td>19</td>\n",
       "      <td>0.124</td>\n",
       "      <td>1.073</td>\n",
       "      <td>0.0</td>\n",
       "      <td>NBA001</td>\n",
       "      <td>6.3</td>\n",
       "    </tr>\n",
       "    <tr>\n",
       "      <th>1</th>\n",
       "      <td>2</td>\n",
       "      <td>47</td>\n",
       "      <td>1</td>\n",
       "      <td>26</td>\n",
       "      <td>100</td>\n",
       "      <td>4.582</td>\n",
       "      <td>8.218</td>\n",
       "      <td>0.0</td>\n",
       "      <td>NBA021</td>\n",
       "      <td>12.8</td>\n",
       "    </tr>\n",
       "    <tr>\n",
       "      <th>2</th>\n",
       "      <td>3</td>\n",
       "      <td>33</td>\n",
       "      <td>2</td>\n",
       "      <td>10</td>\n",
       "      <td>57</td>\n",
       "      <td>6.111</td>\n",
       "      <td>5.802</td>\n",
       "      <td>1.0</td>\n",
       "      <td>NBA013</td>\n",
       "      <td>20.9</td>\n",
       "    </tr>\n",
       "    <tr>\n",
       "      <th>3</th>\n",
       "      <td>4</td>\n",
       "      <td>29</td>\n",
       "      <td>2</td>\n",
       "      <td>4</td>\n",
       "      <td>19</td>\n",
       "      <td>0.681</td>\n",
       "      <td>0.516</td>\n",
       "      <td>0.0</td>\n",
       "      <td>NBA009</td>\n",
       "      <td>6.3</td>\n",
       "    </tr>\n",
       "    <tr>\n",
       "      <th>4</th>\n",
       "      <td>5</td>\n",
       "      <td>47</td>\n",
       "      <td>1</td>\n",
       "      <td>31</td>\n",
       "      <td>253</td>\n",
       "      <td>9.308</td>\n",
       "      <td>8.908</td>\n",
       "      <td>0.0</td>\n",
       "      <td>NBA008</td>\n",
       "      <td>7.2</td>\n",
       "    </tr>\n",
       "  </tbody>\n",
       "</table>\n",
       "</div>"
      ],
      "text/plain": [
       "   Customer Id  Age  Edu  Years Employed  Income  Card Debt  Other Debt  \\\n",
       "0            1   41    2               6      19      0.124       1.073   \n",
       "1            2   47    1              26     100      4.582       8.218   \n",
       "2            3   33    2              10      57      6.111       5.802   \n",
       "3            4   29    2               4      19      0.681       0.516   \n",
       "4            5   47    1              31     253      9.308       8.908   \n",
       "\n",
       "   Defaulted Address  DebtIncomeRatio  \n",
       "0        0.0  NBA001              6.3  \n",
       "1        0.0  NBA021             12.8  \n",
       "2        1.0  NBA013             20.9  \n",
       "3        0.0  NBA009              6.3  \n",
       "4        0.0  NBA008              7.2  "
      ]
     },
     "execution_count": 4,
     "metadata": {},
     "output_type": "execute_result"
    }
   ],
   "source": [
    "# here i would take segmentation data\n",
    "df_cust= pd.read_csv(\"Cust_Segmentation.csv\")\n",
    "df_cust.head()"
   ]
  },
  {
   "cell_type": "code",
   "execution_count": 22,
   "id": "cab5cbaa",
   "metadata": {},
   "outputs": [
    {
     "data": {
      "image/png": "[encoded data removed]",
      "text/plain": [
       "<Figure size 432x288 with 1 Axes>"
      ]
     },
     "metadata": {
      "needs_background": "light"
     },
     "output_type": "display_data"
    }
   ],
   "source": [
    "plt.scatter(df_cust['Years Employed'], df_cust['DebtIncomeRatio'])   \n",
    "plt.show()"
   ]
  },
  {
   "cell_type": "code",
   "execution_count": 3,
   "id": "ce1d0a14",
   "metadata": {},
   "outputs": [
    {
     "name": "stdout",
     "output_type": "stream",
     "text": [
      "<class 'pandas.core.frame.DataFrame'>\n",
      "RangeIndex: 850 entries, 0 to 849\n",
      "Data columns (total 10 columns):\n",
      " #   Column           Non-Null Count  Dtype  \n",
      "---  ------           --------------  -----  \n",
      " 0   Customer Id      850 non-null    int64  \n",
      " 1   Age              850 non-null    int64  \n",
      " 2   Edu              850 non-null    int64  \n",
      " 3   Years Employed   850 non-null    int64  \n",
      " 4   Income           850 non-null    int64  \n",
      " 5   Card Debt        850 non-null    float64\n",
      " 6   Other Debt       850 non-null    float64\n",
      " 7   Defaulted        700 non-null    float64\n",
      " 8   Address          850 non-null    object \n",
      " 9   DebtIncomeRatio  850 non-null    float64\n",
      "dtypes: float64(4), int64(5), object(1)\n",
      "memory usage: 66.5+ KB\n"
     ]
    }
   ],
   "source": [
    "df_cust.info()"
   ]
  },
  {
   "cell_type": "code",
   "execution_count": 8,
   "id": "67080d15",
   "metadata": {},
   "outputs": [],
   "source": [
    "#  address feild contains categorical data, Defaulted contains null values so delete that\n",
    "df_cust.drop(columns= ['Customer Id', 'Address', 'Defaulted'], axis=1, inplace=True)"
   ]
  },
  {
   "cell_type": "code",
   "execution_count": 9,
   "id": "6c2f398f",
   "metadata": {},
   "outputs": [
    {
     "data": {
      "text/html": [
       "<div>\n",
       "<style scoped>\n",
       "    .dataframe tbody tr th:only-of-type {\n",
       "        vertical-align: middle;\n",
       "    }\n",
       "\n",
       "    .dataframe tbody tr th {\n",
       "        vertical-align: top;\n",
       "    }\n",
       "\n",
       "    .dataframe thead th {\n",
       "        text-align: right;\n",
       "    }\n",
       "</style>\n",
       "<table border=\"1\" class=\"dataframe\">\n",
       "  <thead>\n",
       "    <tr style=\"text-align: right;\">\n",
       "      <th></th>\n",
       "      <th>Age</th>\n",
       "      <th>Edu</th>\n",
       "      <th>Years Employed</th>\n",
       "      <th>Income</th>\n",
       "      <th>Card Debt</th>\n",
       "      <th>Other Debt</th>\n",
       "      <th>DebtIncomeRatio</th>\n",
       "    </tr>\n",
       "  </thead>\n",
       "  <tbody>\n",
       "    <tr>\n",
       "      <th>845</th>\n",
       "      <td>27</td>\n",
       "      <td>1</td>\n",
       "      <td>5</td>\n",
       "      <td>26</td>\n",
       "      <td>0.548</td>\n",
       "      <td>1.220</td>\n",
       "      <td>6.8</td>\n",
       "    </tr>\n",
       "    <tr>\n",
       "      <th>846</th>\n",
       "      <td>28</td>\n",
       "      <td>2</td>\n",
       "      <td>7</td>\n",
       "      <td>34</td>\n",
       "      <td>0.359</td>\n",
       "      <td>2.021</td>\n",
       "      <td>7.0</td>\n",
       "    </tr>\n",
       "    <tr>\n",
       "      <th>847</th>\n",
       "      <td>25</td>\n",
       "      <td>4</td>\n",
       "      <td>0</td>\n",
       "      <td>18</td>\n",
       "      <td>2.802</td>\n",
       "      <td>3.210</td>\n",
       "      <td>33.4</td>\n",
       "    </tr>\n",
       "    <tr>\n",
       "      <th>848</th>\n",
       "      <td>32</td>\n",
       "      <td>1</td>\n",
       "      <td>12</td>\n",
       "      <td>28</td>\n",
       "      <td>0.116</td>\n",
       "      <td>0.696</td>\n",
       "      <td>2.9</td>\n",
       "    </tr>\n",
       "    <tr>\n",
       "      <th>849</th>\n",
       "      <td>52</td>\n",
       "      <td>1</td>\n",
       "      <td>16</td>\n",
       "      <td>64</td>\n",
       "      <td>1.866</td>\n",
       "      <td>3.638</td>\n",
       "      <td>8.6</td>\n",
       "    </tr>\n",
       "  </tbody>\n",
       "</table>\n",
       "</div>"
      ],
      "text/plain": [
       "     Age  Edu  Years Employed  Income  Card Debt  Other Debt  DebtIncomeRatio\n",
       "845   27    1               5      26      0.548       1.220              6.8\n",
       "846   28    2               7      34      0.359       2.021              7.0\n",
       "847   25    4               0      18      2.802       3.210             33.4\n",
       "848   32    1              12      28      0.116       0.696              2.9\n",
       "849   52    1              16      64      1.866       3.638              8.6"
      ]
     },
     "execution_count": 9,
     "metadata": {},
     "output_type": "execute_result"
    }
   ],
   "source": [
    "df_cust.tail()"
   ]
  },
  {
   "cell_type": "code",
   "execution_count": 10,
   "id": "732bf151",
   "metadata": {},
   "outputs": [
    {
     "data": {
      "text/plain": [
       "(850, 7)"
      ]
     },
     "execution_count": 10,
     "metadata": {},
     "output_type": "execute_result"
    }
   ],
   "source": [
    "df_cust.shape"
   ]
  },
  {
   "cell_type": "code",
   "execution_count": 23,
   "id": "95ea2094",
   "metadata": {},
   "outputs": [],
   "source": [
    "#  we will work on just 2 varaiables for simplicity and to understand well.. Income and spending score\n",
    "df= df_cust.iloc[:,[2,6]].values"
   ]
  },
  {
   "cell_type": "code",
   "execution_count": 25,
   "id": "21dc7330",
   "metadata": {},
   "outputs": [
    {
     "data": {
      "text/plain": [
       "array([[ 6. ,  6.3],\n",
       "       [26. , 12.8],\n",
       "       [10. , 20.9],\n",
       "       ...,\n",
       "       [ 0. , 33.4],\n",
       "       [12. ,  2.9],\n",
       "       [16. ,  8.6]])"
      ]
     },
     "execution_count": 25,
     "metadata": {},
     "output_type": "execute_result"
    }
   ],
   "source": [
    "df"
   ]
  },
  {
   "cell_type": "code",
   "execution_count": 32,
   "id": "2b0e9bf0",
   "metadata": {},
   "outputs": [
    {
     "data": {
      "image/png": "[encoded data removed]",
      "text/plain": [
       "<Figure size 432x288 with 1 Axes>"
      ]
     },
     "metadata": {
      "needs_background": "light"
     },
     "output_type": "display_data"
    }
   ],
   "source": [
    "plt.scatter(df[:,0], df[:,1], s= 10, c= \"orange\")     # all rows from 0th index and all rows from 1st index. s=size of the dots, c=color\n",
    "plt.show()\n",
    "\n",
    "# through naked eyes we can see there are 5 clusters "
   ]
  },
  {
   "cell_type": "code",
   "execution_count": 35,
   "id": "ffe46abf",
   "metadata": {},
   "outputs": [],
   "source": [
    "# now we will find the optimal number of clusters by elbow method. we will use K-means algorithm to perform the elbow method\n",
    "\n",
    "from sklearn.cluster import KMeans\n"
   ]
  },
  {
   "cell_type": "code",
   "execution_count": 55,
   "id": "229f63e9",
   "metadata": {},
   "outputs": [
    {
     "name": "stderr",
     "output_type": "stream",
     "text": [
      "C:\\Users\\Manjula\\anaconda3\\lib\\site-packages\\sklearn\\cluster\\_kmeans.py:881: UserWarning: KMeans is known to have a memory leak on Windows with MKL, when there are less chunks than available threads. You can avoid it by setting the environment variable OMP_NUM_THREADS=4.\n",
      "  warnings.warn(\n"
     ]
    }
   ],
   "source": [
    "     \n",
    "wcss= []                       # a variable wcss (within Sum of cluster scres)\n",
    "for i in range(1,8):                 # u can run this loop for any no of times. im taking 10\n",
    "  km= KMeans(n_clusters= i)\n",
    "  km.fit_predict(df)\n",
    "  k= km.inertia_                     # kmeans has an attribute called inertia and we take thos values and put them to wcss\n",
    "  wcss.append(k)                  \n"
   ]
  },
  {
   "cell_type": "code",
   "execution_count": 56,
   "id": "6b0d14f9",
   "metadata": {},
   "outputs": [
    {
     "data": {
      "text/plain": [
       "[77335.91728235307,\n",
       " 50571.65222049627,\n",
       " 30194.761204943934,\n",
       " 24472.7204991131,\n",
       " 19952.03851499262,\n",
       " 16708.389984796133,\n",
       " 14523.187762635524]"
      ]
     },
     "execution_count": 56,
     "metadata": {},
     "output_type": "execute_result"
    }
   ],
   "source": [
    "wcss"
   ]
  },
  {
   "cell_type": "code",
   "execution_count": 58,
   "id": "1056f600",
   "metadata": {},
   "outputs": [
    {
     "data": {
      "image/png": "[encoded data removed]",
      "text/plain": [
       "<Figure size 432x288 with 1 Axes>"
      ]
     },
     "metadata": {
      "needs_background": "light"
     },
     "output_type": "display_data"
    }
   ],
   "source": [
    "#  now we need to plot this wcss to find the elbow value\n",
    "plt.plot(range(1,8), wcss)                                # x axis taking 1,8 range and y axis taking wcss values\n",
    "plt.title(\"The elbow method\")\n",
    "plt.xlabel(\"Number of clusters\")\n",
    "plt.ylabel(\"WCSS values\")\n",
    "plt.show()                                     # no. of clusters may be 5 or 6 (not clearly visible)"
   ]
  },
  {
   "cell_type": "code",
   "execution_count": 75,
   "id": "086f1c4b",
   "metadata": {},
   "outputs": [],
   "source": [
    "# Next we will fit the KMeans to the dataset to create the clusters \n",
    "\n",
    "x= df\n",
    "km= KMeans(n_clusters= 5)\n",
    "y_pred= km.fit_predict(x)\n"
   ]
  },
  {
   "cell_type": "code",
   "execution_count": 76,
   "id": "a8b40542",
   "metadata": {},
   "outputs": [
    {
     "data": {
      "text/plain": [
       "array([3, 0, 2, 3, 0, 0, 3, 3, 1, 0, 4, 4, 3, 1, 3, 3, 3, 1, 0, 0, 3, 1,\n",
       "       2, 0, 2, 4, 3, 0, 4, 4, 4, 1, 3, 1, 4, 3, 3, 1, 3, 4, 3, 0, 2, 4,\n",
       "       2, 1, 1, 3, 3, 4, 0, 2, 2, 0, 2, 1, 3, 3, 4, 4, 0, 0, 0, 0, 3, 4,\n",
       "       4, 1, 1, 1, 4, 3, 4, 1, 4, 1, 4, 3, 0, 0, 4, 2, 0, 3, 1, 3, 1, 1,\n",
       "       4, 1, 4, 3, 3, 1, 3, 3, 3, 4, 1, 3, 2, 4, 0, 3, 1, 2, 3, 1, 4, 4,\n",
       "       4, 1, 4, 1, 1, 4, 1, 0, 2, 3, 1, 3, 4, 4, 4, 4, 3, 3, 1, 3, 4, 0,\n",
       "       1, 3, 1, 1, 0, 1, 4, 1, 2, 3, 1, 1, 2, 1, 0, 1, 3, 3, 4, 2, 3, 1,\n",
       "       4, 0, 0, 0, 1, 1, 3, 2, 4, 4, 1, 4, 3, 4, 4, 3, 0, 1, 4, 1, 4, 2,\n",
       "       4, 3, 1, 0, 1, 4, 3, 0, 2, 2, 3, 4, 0, 3, 2, 2, 4, 3, 4, 1, 3, 0,\n",
       "       2, 3, 0, 3, 1, 4, 4, 1, 4, 0, 0, 3, 4, 4, 4, 4, 1, 1, 1, 2, 0, 4,\n",
       "       1, 0, 4, 3, 3, 3, 0, 3, 2, 0, 4, 2, 2, 1, 0, 3, 0, 1, 2, 3, 1, 4,\n",
       "       3, 4, 3, 0, 4, 0, 4, 1, 4, 1, 4, 2, 4, 2, 0, 3, 3, 3, 3, 1, 1, 3,\n",
       "       0, 3, 4, 0, 3, 4, 1, 4, 4, 0, 1, 3, 1, 1, 4, 3, 3, 2, 4, 1, 0, 3,\n",
       "       0, 3, 0, 0, 3, 4, 3, 2, 3, 1, 1, 4, 3, 0, 4, 4, 3, 3, 1, 3, 2, 2,\n",
       "       1, 3, 4, 1, 3, 3, 0, 3, 3, 1, 4, 3, 2, 3, 1, 3, 3, 4, 1, 3, 4, 0,\n",
       "       0, 0, 1, 1, 4, 2, 3, 0, 2, 4, 1, 0, 4, 1, 0, 3, 1, 3, 3, 3, 0, 3,\n",
       "       4, 3, 4, 4, 2, 1, 3, 1, 4, 2, 3, 3, 3, 1, 4, 4, 0, 4, 3, 1, 0, 3,\n",
       "       2, 1, 2, 0, 3, 3, 3, 4, 3, 1, 0, 4, 0, 1, 3, 3, 1, 2, 4, 2, 1, 4,\n",
       "       3, 0, 3, 3, 1, 4, 1, 1, 1, 2, 3, 2, 3, 3, 4, 4, 2, 2, 3, 4, 0, 1,\n",
       "       2, 3, 0, 2, 4, 4, 2, 0, 3, 1, 1, 3, 2, 2, 3, 3, 0, 3, 4, 3, 0, 0,\n",
       "       4, 4, 3, 0, 0, 2, 4, 1, 0, 4, 2, 1, 3, 3, 0, 3, 2, 3, 1, 1, 3, 0,\n",
       "       2, 1, 4, 1, 4, 3, 4, 2, 0, 1, 0, 0, 4, 3, 3, 4, 4, 2, 1, 1, 4, 1,\n",
       "       1, 3, 2, 0, 1, 3, 2, 2, 4, 2, 4, 1, 1, 2, 4, 3, 3, 1, 0, 0, 3, 3,\n",
       "       4, 2, 0, 1, 1, 1, 1, 2, 0, 1, 1, 3, 1, 1, 2, 1, 3, 1, 4, 3, 4, 4,\n",
       "       2, 1, 3, 2, 0, 1, 4, 3, 3, 3, 3, 0, 0, 4, 3, 4, 0, 4, 4, 1, 0, 3,\n",
       "       2, 4, 3, 0, 4, 1, 0, 4, 2, 3, 4, 0, 1, 1, 3, 0, 1, 3, 2, 3, 1, 1,\n",
       "       1, 3, 4, 2, 1, 3, 3, 1, 2, 3, 0, 4, 0, 2, 2, 3, 4, 1, 3, 4, 4, 2,\n",
       "       2, 3, 3, 4, 4, 4, 4, 4, 1, 2, 1, 2, 1, 1, 1, 4, 4, 4, 3, 4, 1, 1,\n",
       "       2, 3, 4, 4, 2, 1, 1, 2, 3, 2, 4, 3, 0, 1, 0, 4, 4, 4, 0, 1, 1, 1,\n",
       "       4, 0, 3, 3, 3, 3, 4, 2, 4, 1, 4, 4, 3, 3, 0, 0, 3, 3, 4, 2, 4, 3,\n",
       "       1, 3, 4, 0, 4, 4, 4, 4, 4, 4, 3, 4, 4, 3, 3, 0, 3, 4, 2, 4, 1, 3,\n",
       "       2, 0, 3, 4, 1, 4, 3, 3, 3, 3, 3, 1, 3, 3, 1, 4, 1, 1, 3, 1, 3, 3,\n",
       "       3, 4, 1, 3, 0, 1, 1, 4, 2, 0, 3, 2, 4, 4, 4, 1, 1, 1, 1, 1, 1, 0,\n",
       "       3, 1, 3, 4, 1, 0, 3, 4, 0, 3, 1, 3, 1, 4, 1, 4, 3, 2, 3, 0, 4, 2,\n",
       "       1, 1, 1, 3, 4, 1, 1, 1, 3, 3, 0, 2, 0, 2, 1, 4, 3, 3, 3, 4, 3, 4,\n",
       "       4, 3, 1, 4, 1, 4, 2, 4, 0, 1, 4, 3, 4, 4, 0, 3, 4, 4, 4, 3, 4, 0,\n",
       "       0, 1, 3, 3, 1, 3, 1, 4, 3, 0, 3, 1, 4, 3, 4, 3, 0, 2, 4, 1, 3, 4,\n",
       "       3, 3, 3, 3, 1, 1, 1, 2, 3, 1, 1, 4, 2, 1, 3, 3, 2, 1, 1, 1, 3, 1,\n",
       "       3, 1, 4, 4, 4, 3, 4, 4, 3, 3, 3, 2, 4, 0])"
      ]
     },
     "execution_count": 76,
     "metadata": {},
     "output_type": "execute_result"
    }
   ],
   "source": [
    "y_pred"
   ]
  },
  {
   "cell_type": "code",
   "execution_count": 77,
   "id": "4037877b",
   "metadata": {},
   "outputs": [
    {
     "data": {
      "text/plain": [
       "array([0, 1, 2, 3, 4])"
      ]
     },
     "execution_count": 77,
     "metadata": {},
     "output_type": "execute_result"
    }
   ],
   "source": [
    "# to get unique values of labels \n",
    "np.unique(y_pred)                  # so we have 6 clusters"
   ]
  },
  {
   "cell_type": "code",
   "execution_count": 78,
   "id": "827eb68d",
   "metadata": {},
   "outputs": [
    {
     "data": {
      "text/plain": [
       "array([20.9, 19.8, 17.3, 23.8, 21.3, 32.5, 24.4, 19.9, 29.7, 25.4, 30.1,\n",
       "       18.2, 16.4, 25.1, 23.4, 19.2, 28.9, 26.3, 26. , 20.3, 24.5, 17.6,\n",
       "       23.3, 24.6, 17. , 16.9, 23. , 23.1, 25.1, 32.5, 24.7, 18.8, 32.3,\n",
       "       25.2, 19.2, 21.3, 18.9, 21.7, 28.5, 21.7, 23.8, 30.7, 20.1, 18.1,\n",
       "       18.1, 23.1, 21.4, 16. , 28.2, 20. , 19. , 19.9, 26.5, 27.7, 23.8,\n",
       "       16.5, 28.9, 18.5, 20.2, 17.4, 15.8, 41.3, 22.9, 26.5, 20.4, 25.6,\n",
       "       23.7, 23.8, 19.8, 30.6, 24.2, 27.1, 35.3, 17. , 19.5, 33.3, 23.3,\n",
       "       19.4, 19.9, 23.6, 22.7, 19.6, 18.7, 36.6, 17.3, 17.8, 20.1, 27.7,\n",
       "       23.1, 17.6, 25.7, 18.4, 32.4, 23.1, 21. , 30.8, 21.3, 33.4])"
      ]
     },
     "execution_count": 78,
     "metadata": {},
     "output_type": "execute_result"
    }
   ],
   "source": [
    "x[y_pred == 2,1]                                           # all 2 labels of x in 1st index"
   ]
  },
  {
   "cell_type": "code",
   "execution_count": 80,
   "id": "29dcf00d",
   "metadata": {},
   "outputs": [
    {
     "data": {
      "image/png": "[encoded data removed]",
      "text/plain": [
       "<Figure size 432x288 with 1 Axes>"
      ]
     },
     "metadata": {
      "needs_background": "light"
     },
     "output_type": "display_data"
    }
   ],
   "source": [
    "# lets visualize the clusters on the data points \n",
    "\n",
    "plt.scatter(x[y_pred == 0,0], x[y_pred == 0, 1], color= 'blue')\n",
    "plt.scatter(x[y_pred == 1,0], x[y_pred == 1, 1], color= 'green')\n",
    "plt.scatter(x[y_pred == 2,0], x[y_pred == 2, 1], color= 'pink')\n",
    "plt.scatter(x[y_pred == 3,0], x[y_pred == 3, 1], color= 'brown')\n",
    "plt.scatter(x[y_pred == 4,0], x[y_pred == 4, 1], color= 'red')\n",
    "# plt.scatter(x[y_pred == 5,0], x[y_pred == 5, 1], color= 'yellow')\n",
    "\n",
    "plt.xlabel('Years Employed')\n",
    "plt.ylabel('DebtIncomeRatio')\n",
    "plt.show()\n"
   ]
  },
  {
   "cell_type": "code",
   "execution_count": null,
   "id": "71bfb0d5",
   "metadata": {},
   "outputs": [],
   "source": []
  },
  {
   "cell_type": "code",
   "execution_count": null,
   "id": "5b9fc02b",
   "metadata": {},
   "outputs": [],
   "source": []
  }
 ],
 "metadata": {
  "kernelspec": {
   "display_name": "venvDL1",
   "language": "python",
   "name": "venvdl1"
  },
  "language_info": {
   "codemirror_mode": {
    "name": "ipython",
    "version": 3
   },
   "file_extension": ".py",
   "mimetype": "text/x-python",
   "name": "python",
   "nbconvert_exporter": "python",
   "pygments_lexer": "ipython3",
   "version": "3.9.7"
  }
 },
 "nbformat": 4,
 "nbformat_minor": 5
}
